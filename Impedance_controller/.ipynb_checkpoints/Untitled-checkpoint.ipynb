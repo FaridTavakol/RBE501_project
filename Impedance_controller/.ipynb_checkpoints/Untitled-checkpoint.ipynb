{
 "cells": [
  {
   "cell_type": "code",
   "execution_count": 1,
   "metadata": {},
   "outputs": [],
   "source": [
    "import numpy as np"
   ]
  },
  {
   "cell_type": "code",
   "execution_count": 16,
   "metadata": {},
   "outputs": [
    {
     "name": "stdout",
     "output_type": "stream",
     "text": [
      "a: \n",
      "(3,)\n",
      "b: \n",
      "(1, 3)\n",
      "c: \n",
      "(1, 2)\n",
      "[[1 2]]\n"
     ]
    }
   ],
   "source": [
    "print(\"a: \")\n",
    "a = np.asarray([1,2,3]) #[1 2 3]\n",
    "print(np.shape(a)) #(3,)\n",
    "\n",
    "print(\"b: \")\n",
    "b = a.reshape(1,3) #[[1 2 3]]\n",
    "print(np.shape(b)) #(1,3)\n",
    "\n",
    "print(\"c: \")\n",
    "c = (np.asarray(b[0][0:2])).reshape(1,2)\n",
    "\n",
    "print(np.shape(c))\n",
    "print(c)"
   ]
  },
  {
   "cell_type": "code",
   "execution_count": 20,
   "metadata": {},
   "outputs": [
    {
     "name": "stdout",
     "output_type": "stream",
     "text": [
      "[1]\n"
     ]
    }
   ],
   "source": [
    "def get_joint_num():\n",
    "    num = 3\n",
    "    return num\n",
    "\n",
    "\n",
    "NJoints = get_joint_num()\n",
    "\n",
    "mass_arr = [[1],[1],[1],[1],[1],[1],[1],[1]]#good\n",
    "mass_arr = np.array(mass_arr) \n",
    "mass_arr = np.asarray(mass_arr[0:NJoints])\n",
    "print(mass_arr)"
   ]
  },
  {
   "cell_type": "code",
   "execution_count": 19,
   "metadata": {},
   "outputs": [
    {
     "data": {
      "text/plain": [
       "3"
      ]
     },
     "execution_count": 19,
     "metadata": {},
     "output_type": "execute_result"
    }
   ],
   "source": []
  },
  {
   "cell_type": "code",
   "execution_count": null,
   "metadata": {},
   "outputs": [],
   "source": []
  }
 ],
 "metadata": {
  "kernelspec": {
   "display_name": "Python 3",
   "language": "python",
   "name": "python3"
  },
  "language_info": {
   "codemirror_mode": {
    "name": "ipython",
    "version": 3
   },
   "file_extension": ".py",
   "mimetype": "text/x-python",
   "name": "python",
   "nbconvert_exporter": "python",
   "pygments_lexer": "ipython3",
   "version": "3.6.8"
  }
 },
 "nbformat": 4,
 "nbformat_minor": 2
}
